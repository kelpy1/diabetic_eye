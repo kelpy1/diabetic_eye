{
 "cells": [
  {
   "cell_type": "code",
   "execution_count": 1,
   "metadata": {
    "collapsed": false,
    "deletable": true,
    "editable": true
   },
   "outputs": [],
   "source": [
    "import numpy as np\n",
    "\n",
    "import os\n",
    "from os.path import join\n",
    "import time\n",
    "import shutil\n",
    "\n",
    "import torch\n",
    "import torch.nn as nn\n",
    "import torch.optim as optim\n",
    "import torchvision.transforms as transforms\n",
    "import torchvision.datasets as datasets\n",
    "import torchvision.models as models\n",
    "import torch.utils.trainer as trainer\n",
    "\n",
    "from preproc_data import mkdir"
   ]
  },
  {
   "cell_type": "markdown",
   "metadata": {
    "deletable": true,
    "editable": true
   },
   "source": [
    "# Params"
   ]
  },
  {
   "cell_type": "code",
   "execution_count": 2,
   "metadata": {
    "collapsed": true,
    "deletable": true,
    "editable": true
   },
   "outputs": [],
   "source": [
    "dataset_name = 'preproc'\n",
    "train_name = 'resnet101_003'\n",
    "\n",
    "batch_size = 16\n",
    "\n",
    "LR = 0.0001\n",
    "momentum = 0.9\n",
    "weight_decay = 1e-4\n",
    "\n",
    "print_freq = 500\n",
    "n_epoch = 10000\n",
    "test_iter = 1"
   ]
  },
  {
   "cell_type": "markdown",
   "metadata": {
    "deletable": true,
    "editable": true
   },
   "source": [
    "# Data loader"
   ]
  },
  {
   "cell_type": "code",
   "execution_count": 3,
   "metadata": {
    "collapsed": false,
    "deletable": true,
    "editable": true
   },
   "outputs": [],
   "source": [
    "data_dir = '/workdir/data/{0}/'.format(dataset_name)\n",
    "model_save_dir = '/workdir/data/models/{0}/{1}/'.format(dataset_name, train_name)\n",
    "subm_dir = '/workdir/data/submissions/{0}/{1}/'.format(dataset_name, train_name)\n",
    "mkdir(model_save_dir)\n",
    "mkdir(subm_dir)\n",
    "\n",
    "traindir = join(data_dir, 'train')\n",
    "valdir = join(data_dir, 'val')\n",
    "\n",
    "normalize = transforms.Normalize(mean=[0.485, 0.456, 0.406],\n",
    "                                 std=[0.229, 0.224, 0.225])\n",
    "\n",
    "train_loader = torch.utils.data.DataLoader(\n",
    "    datasets.ImageFolder(traindir, transforms.Compose([\n",
    "        transforms.RandomSizedCrop(224),\n",
    "        transforms.RandomHorizontalFlip(),\n",
    "        transforms.ToTensor(),\n",
    "        normalize,\n",
    "    ])),\n",
    "    batch_size=batch_size, shuffle=True,\n",
    "    num_workers=2, pin_memory=True)\n",
    "\n",
    "val_loader = torch.utils.data.DataLoader(\n",
    "    datasets.ImageFolder(valdir, transforms.Compose([\n",
    "        transforms.Scale(256),\n",
    "        transforms.CenterCrop(224),\n",
    "        transforms.ToTensor(),\n",
    "        normalize,\n",
    "    ])),\n",
    "    batch_size=batch_size, shuffle=False,\n",
    "    num_workers=2, pin_memory=True)"
   ]
  },
  {
   "cell_type": "code",
   "execution_count": 4,
   "metadata": {
    "collapsed": false,
    "deletable": true,
    "editable": true
   },
   "outputs": [
    {
     "data": {
      "text/plain": [
       "{'0': 0, '1': 1, '2': 2, '3': 3, '4': 4}"
      ]
     },
     "execution_count": 4,
     "metadata": {},
     "output_type": "execute_result"
    }
   ],
   "source": [
    "train_loader.dataset.class_to_idx"
   ]
  },
  {
   "cell_type": "markdown",
   "metadata": {
    "deletable": true,
    "editable": true
   },
   "source": [
    "# Model"
   ]
  },
  {
   "cell_type": "code",
   "execution_count": 5,
   "metadata": {
    "collapsed": true,
    "deletable": true,
    "editable": true
   },
   "outputs": [],
   "source": [
    "def resnet50():\n",
    "    model = models.resnet50(pretrained=True)\n",
    "    \n",
    "    model.fc = nn.Linear(2048, 5)\n",
    "\n",
    "    optimizer = torch.optim.SGD(model.parameters(), LR,\n",
    "                                momentum=momentum,\n",
    "                                weight_decay=weight_decay)\n",
    "    model = torch.nn.DataParallel(model).cuda()\n",
    "    \n",
    "    criterion = nn.CrossEntropyLoss().cuda()\n",
    "    \n",
    "    return model, criterion, optimizer"
   ]
  },
  {
   "cell_type": "code",
   "execution_count": 6,
   "metadata": {
    "collapsed": false,
    "deletable": true,
    "editable": true
   },
   "outputs": [],
   "source": [
    "model, criterion, optimizer = resnet50()"
   ]
  },
  {
   "cell_type": "markdown",
   "metadata": {
    "deletable": true,
    "editable": true
   },
   "source": [
    "# Train"
   ]
  },
  {
   "cell_type": "code",
   "execution_count": null,
   "metadata": {
    "collapsed": true,
    "deletable": true,
    "editable": true
   },
   "outputs": [],
   "source": [
    "def train(train_loader, model, criterion, optimizer, epoch):\n",
    "    batch_time = AverageMeter()\n",
    "    data_time = AverageMeter()\n",
    "    losses = AverageMeter()\n",
    "    top1 = AverageMeter()\n",
    "\n",
    "    # switch to train mode\n",
    "    model.train()\n",
    "\n",
    "    end = time.time()\n",
    "    for i, (input, target) in enumerate(train_loader):\n",
    "        # measure data loading time\n",
    "        data_time.update(time.time() - end)\n",
    "\n",
    "        target = target.cuda(async=True)\n",
    "        input_var = torch.autograd.Variable(input)\n",
    "        target_var = torch.autograd.Variable(target)\n",
    "\n",
    "        # compute output\n",
    "        output = model(input_var)\n",
    "        loss = criterion(output, target_var)\n",
    "\n",
    "        # measure accuracy and record loss\n",
    "        prec1 = accuracy(output.data, target, topk=(1,))\n",
    "        losses.update(loss.data[0], input.size(0))\n",
    "        top1.update(prec1[0][0], input.size(0))\n",
    "\n",
    "        # compute gradient and do SGD step\n",
    "        optimizer.zero_grad()\n",
    "        loss.backward()\n",
    "        optimizer.step()\n",
    "\n",
    "        # measure elapsed time\n",
    "        batch_time.update(time.time() - end)\n",
    "        end = time.time()\n",
    "        \n",
    "        if i % print_freq == 0:\n",
    "            print('Epoch: [{0}][{1}/{2}]\\t'\n",
    "                  'Time {batch_time.val:.3f} ({batch_time.avg:.3f})\\t'\n",
    "                  'Data {data_time.val:.3f} ({data_time.avg:.3f})\\t'\n",
    "                  'Loss {loss.val:.4f} ({loss.avg:.4f})\\t'\n",
    "                  'Prec@1 {top1.val:.3f} ({top1.avg:.3f})'.format(\n",
    "                   epoch, i, len(train_loader), batch_time=batch_time,\n",
    "                   data_time=data_time, loss=losses, top1=top1))\n",
    "\n",
    "\n",
    "def validate(val_loader, model, criterion):\n",
    "    batch_time = AverageMeter()\n",
    "    losses = AverageMeter()\n",
    "    top1 = AverageMeter()\n",
    "\n",
    "    # switch to evaluate mode\n",
    "    model.eval()\n",
    "\n",
    "    end = time.time()\n",
    "    for i, (input, target) in enumerate(val_loader):\n",
    "        target = target.cuda(async=True)\n",
    "        input_var = torch.autograd.Variable(input, volatile=True)\n",
    "        target_var = torch.autograd.Variable(target, volatile=True)\n",
    "\n",
    "        # compute output\n",
    "        output = model(input_var)\n",
    "        loss = criterion(output, target_var)\n",
    "\n",
    "        # measure accuracy and record loss\n",
    "        prec1 = accuracy(output.data, target, topk=(1,))\n",
    "        losses.update(loss.data[0], input.size(0))\n",
    "        top1.update(prec1[0][0], input.size(0))\n",
    "\n",
    "        # measure elapsed time\n",
    "        batch_time.update(time.time() - end)\n",
    "        end = time.time()\n",
    "\n",
    "        if i % print_freq == 0:\n",
    "            print('Test: [{0}/{1}]\\t'\n",
    "                  'Time {batch_time.val:.3f} ({batch_time.avg:.3f})\\t'\n",
    "                  'Loss {loss.val:.4f} ({loss.avg:.4f})\\t'\n",
    "                  'Prec@1 {top1.val:.3f} ({top1.avg:.3f})'.format(\n",
    "                   i, len(val_loader), batch_time=batch_time, loss=losses,\n",
    "                   top1=top1))\n",
    "\n",
    "    print(' * Prec@1 {top1.avg:.3f}\\t'\n",
    "          ' Loss {loss.avg:.4f}'.format(top1=top1, loss=losses))\n",
    "\n",
    "    return losses.avg\n",
    "\n",
    "\n",
    "def save_checkpoint(state, is_best, filename=join(model_save_dir, 'checkpoint.pth.tar')):\n",
    "    torch.save(state, filename)\n",
    "    if is_best:\n",
    "        shutil.copyfile(filename, join(model_save_dir, 'model_best.pth.tar'))\n",
    "        print('Best model saved')\n",
    "\n",
    "\n",
    "class AverageMeter(object):\n",
    "    \"\"\"Computes and stores the average and current value\"\"\"\n",
    "    def __init__(self):\n",
    "        self.reset()\n",
    "\n",
    "    def reset(self):\n",
    "        self.val = 0\n",
    "        self.avg = 0\n",
    "        self.sum = 0\n",
    "        self.count = 0\n",
    "\n",
    "    def update(self, val, n=1):\n",
    "        self.val = val\n",
    "        self.sum += val * n\n",
    "        self.count += n\n",
    "        self.avg = self.sum / self.count\n",
    "\n",
    "\n",
    "def adjust_learning_rate(optimizer, epoch):\n",
    "    \"\"\"Sets the learning rate to the initial LR decayed by 10 every 30 epochs\"\"\"\n",
    "    lr = LR * (0.9 ** (epoch // 30))\n",
    "    for param_group in optimizer.param_groups:\n",
    "        param_group['lr'] = lr\n",
    "\n",
    "\n",
    "def accuracy(output, target, topk=(1,)):\n",
    "    \"\"\"Computes the precision@k for the specified values of k\"\"\"\n",
    "    maxk = max(topk)\n",
    "    batch_size = target.size(0)\n",
    "\n",
    "    _, pred = output.topk(maxk, 1, True, True)\n",
    "    pred = pred.t()\n",
    "    correct = pred.eq(target.view(1, -1).expand_as(pred))\n",
    "\n",
    "    res = []\n",
    "    for k in topk:\n",
    "        correct_k = correct[:k].view(-1).float().sum(0)\n",
    "        res.append(correct_k.mul_(100.0 / batch_size))\n",
    "    return res"
   ]
  },
  {
   "cell_type": "markdown",
   "metadata": {
    "deletable": true,
    "editable": true
   },
   "source": [
    "start train"
   ]
  },
  {
   "cell_type": "code",
   "execution_count": null,
   "metadata": {
    "collapsed": false,
    "deletable": true,
    "editable": true,
    "scrolled": false
   },
   "outputs": [
    {
     "name": "stdout",
     "output_type": "stream",
     "text": [
      "Test: [0/440]\tTime 0.631 (0.631)\tLoss 2.5915 (2.5915)\tPrec@1 0.000 (0.000)\n",
      " * Prec@1 41.190\t Loss 1.3948\n",
      "Epoch: [0][0/1757]\tTime 0.196 (0.196)\tData 0.100 (0.100)\tLoss 1.2671 (1.2671)\tPrec@1 50.000 (50.000)\n",
      "Epoch: [0][500/1757]\tTime 0.221 (0.220)\tData 0.000 (0.000)\tLoss 0.7157 (0.8932)\tPrec@1 75.000 (72.692)\n",
      "Epoch: [0][1000/1757]\tTime 0.220 (0.220)\tData 0.000 (0.000)\tLoss 1.2031 (0.8616)\tPrec@1 56.250 (73.258)\n",
      "Epoch: [0][1500/1757]\tTime 0.220 (0.220)\tData 0.000 (0.000)\tLoss 0.4703 (0.8522)\tPrec@1 93.750 (73.522)\n",
      "Test: [0/440]\tTime 0.142 (0.142)\tLoss 2.7675 (2.7675)\tPrec@1 0.000 (0.000)\n",
      " * Prec@1 72.459\t Loss 0.8367\n",
      "Best model saved\n",
      "Epoch: [1][0/1757]\tTime 0.244 (0.244)\tData 0.125 (0.125)\tLoss 0.3628 (0.3628)\tPrec@1 93.750 (93.750)\n",
      "Epoch: [1][500/1757]\tTime 0.220 (0.220)\tData 0.000 (0.000)\tLoss 0.9729 (0.8214)\tPrec@1 68.750 (73.491)\n",
      "Epoch: [1][1000/1757]\tTime 0.219 (0.220)\tData 0.000 (0.000)\tLoss 0.9410 (0.8190)\tPrec@1 68.750 (73.514)\n",
      "Epoch: [1][1500/1757]\tTime 0.220 (0.220)\tData 0.000 (0.000)\tLoss 0.7432 (0.8133)\tPrec@1 75.000 (73.688)\n",
      "Test: [0/440]\tTime 0.147 (0.147)\tLoss 2.5540 (2.5540)\tPrec@1 0.000 (0.000)\n",
      " * Prec@1 72.573\t Loss 0.8044\n",
      "Best model saved\n",
      "Epoch: [2][0/1757]\tTime 0.241 (0.241)\tData 0.122 (0.122)\tLoss 0.4816 (0.4816)\tPrec@1 87.500 (87.500)\n",
      "Epoch: [2][500/1757]\tTime 0.219 (0.220)\tData 0.000 (0.000)\tLoss 0.9643 (0.7849)\tPrec@1 62.500 (74.264)\n",
      "Epoch: [2][1000/1757]\tTime 0.220 (0.220)\tData 0.000 (0.000)\tLoss 0.5802 (0.7866)\tPrec@1 87.500 (74.063)\n",
      "Epoch: [2][1500/1757]\tTime 0.219 (0.220)\tData 0.000 (0.000)\tLoss 0.8093 (0.7871)\tPrec@1 75.000 (73.980)\n",
      "Test: [0/440]\tTime 0.150 (0.150)\tLoss 2.6237 (2.6237)\tPrec@1 0.000 (0.000)\n",
      " * Prec@1 72.929\t Loss 0.7869\n",
      "Best model saved\n",
      "Epoch: [3][0/1757]\tTime 0.223 (0.223)\tData 0.104 (0.104)\tLoss 0.7715 (0.7715)\tPrec@1 68.750 (68.750)\n",
      "Epoch: [3][500/1757]\tTime 0.220 (0.220)\tData 0.000 (0.000)\tLoss 0.9638 (0.7634)\tPrec@1 68.750 (74.813)\n"
     ]
    }
   ],
   "source": [
    "validate(val_loader, model, criterion)\n",
    "\n",
    "best_loss = np.inf\n",
    "\n",
    "for epoch in range(0, n_epoch):\n",
    "    adjust_learning_rate(optimizer, epoch)\n",
    "\n",
    "    # train for one epoch\n",
    "    train(train_loader, model, criterion, optimizer, epoch)\n",
    "\n",
    "    if epoch % test_iter == 0:\n",
    "        # evaluate on validation set\n",
    "        loss = validate(val_loader, model, criterion)\n",
    "\n",
    "        # remember best prec@1 and save checkpoint\n",
    "        is_best = loss < best_loss\n",
    "        best_loss = min(loss, best_loss)\n",
    "        save_checkpoint({\n",
    "            'epoch': epoch + 1,\n",
    "            'arch': train_name,\n",
    "            'state_dict': model.state_dict(),\n",
    "            'best_loss': best_loss,\n",
    "        }, is_best)"
   ]
  },
  {
   "cell_type": "markdown",
   "metadata": {
    "deletable": true,
    "editable": true
   },
   "source": [
    "# Load best model"
   ]
  },
  {
   "cell_type": "code",
   "execution_count": 9,
   "metadata": {
    "collapsed": false,
    "deletable": true,
    "editable": true
   },
   "outputs": [
    {
     "name": "stdout",
     "output_type": "stream",
     "text": [
      "resnet101_003 0.6747690619238271 22\n"
     ]
    }
   ],
   "source": [
    "state_dict = torch.load(join(model_save_dir, 'model_best.pth.tar'))\n",
    "print(state_dict['arch'], state_dict['best_loss'], state_dict['epoch'])"
   ]
  },
  {
   "cell_type": "code",
   "execution_count": 10,
   "metadata": {
    "collapsed": false,
    "deletable": true,
    "editable": true
   },
   "outputs": [],
   "source": [
    "model.load_state_dict(state_dict['state_dict'])"
   ]
  },
  {
   "cell_type": "code",
   "execution_count": null,
   "metadata": {
    "collapsed": true,
    "deletable": true,
    "editable": true
   },
   "outputs": [],
   "source": []
  }
 ],
 "metadata": {
  "kernelspec": {
   "display_name": "Python 3",
   "language": "python",
   "name": "python3"
  },
  "language_info": {
   "codemirror_mode": {
    "name": "ipython",
    "version": 3
   },
   "file_extension": ".py",
   "mimetype": "text/x-python",
   "name": "python",
   "nbconvert_exporter": "python",
   "pygments_lexer": "ipython3",
   "version": "3.5.3"
  }
 },
 "nbformat": 4,
 "nbformat_minor": 2
}
